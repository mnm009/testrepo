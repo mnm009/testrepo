{
 "cells": [
  {
   "cell_type": "markdown",
   "id": "4015086c-1ede-4b18-af00-a4fd07976416",
   "metadata": {},
   "source": [
    "# Data Science Tools and Ecosystem"
   ]
  },
  {
   "cell_type": "markdown",
   "id": "ef35be15-27ff-44bf-a0ac-9ba8a0b0bc31",
   "metadata": {},
   "source": [
    "In this notebook, Data Science Tools and Ecosystem are summarized."
   ]
  },
  {
   "cell_type": "markdown",
   "id": "32bcfc94-ec88-487e-9028-e69fac35b1dc",
   "metadata": {},
   "source": [
    "**Objectives:**\n",
    "\n",
    "- List popular languages for Data Science\n",
    "- List popular libraries for Data Science\n",
    "- List popular tools for Data Science\n",
    "- Using Markdown Cells\n",
    "- Performing basic operations"
   ]
  },
  {
   "cell_type": "markdown",
   "id": "2a22f9cc-3c72-484d-b9b5-04f05323d7f7",
   "metadata": {},
   "source": [
    "Some of the popular languages that Data Scientists use are:\n",
    "1. Python\n",
    "2. Julia\n",
    "3. Ruby\n",
    "4. R\n",
    "5. JAVA\n",
    "6. Scala"
   ]
  },
  {
   "cell_type": "markdown",
   "id": "b1a67230-6a22-45d8-b966-89c193dcc178",
   "metadata": {},
   "source": [
    "Some of the commonly used libraries used by Data Scientists include:\n",
    "1. Numpy\n",
    "2. Pandas\n",
    "3. Scikit-learn\n",
    "4. Matplotlib\n",
    "5. Keras\n",
    "6. Tensorflow\n",
    "7. Pytorch\n",
    "8. Seaborn"
   ]
  },
  {
   "cell_type": "markdown",
   "id": "9e290b41-2f27-4600-8109-ebab602c45ad",
   "metadata": {},
   "source": [
    "|Data Science Tools|\n",
    "|------------------|\n",
    "|Jupyter Lab|\n",
    "|Jupyter Notebook|\n",
    "|Anaconda|\n",
    "|RStudio|"
   ]
  },
  {
   "cell_type": "markdown",
   "id": "0bda3827-9864-4942-aeab-d1b7575f753c",
   "metadata": {},
   "source": [
    "### Below are a few examples of evaluating arithmetic expressions in Python."
   ]
  },
  {
   "cell_type": "code",
   "execution_count": 1,
   "id": "66ef98e7-04a0-49df-847f-79996883a5f3",
   "metadata": {
    "tags": []
   },
   "outputs": [
    {
     "data": {
      "text/plain": [
       "17"
      ]
     },
     "execution_count": 1,
     "metadata": {},
     "output_type": "execute_result"
    }
   ],
   "source": [
    "# This a simple arithmetic expression to mutiply then add integers.\n",
    "\n",
    "(3*4)+5"
   ]
  },
  {
   "cell_type": "code",
   "execution_count": 2,
   "id": "b641c431-5666-4913-a36f-c92e83bf2abe",
   "metadata": {
    "tags": []
   },
   "outputs": [
    {
     "name": "stdout",
     "output_type": "stream",
     "text": [
      "3.3333333333333335\n"
     ]
    }
   ],
   "source": [
    "# This will convert 200 minutes to hours by diving by 60.\n",
    "\n",
    "min = 200\n",
    "hours = min/60\n",
    "print(hours)"
   ]
  },
  {
   "cell_type": "markdown",
   "id": "4934296a-ab47-4a07-92f1-0737ee6458bb",
   "metadata": {},
   "source": [
    "## Author\n",
    "Noor Mustafa"
   ]
  },
  {
   "cell_type": "code",
   "execution_count": null,
   "id": "81420d46-5ef5-4b73-a1cc-f00461a2c576",
   "metadata": {},
   "outputs": [],
   "source": []
  }
 ],
 "metadata": {
  "kernelspec": {
   "display_name": "Python 3 (ipykernel)",
   "language": "python",
   "name": "python3"
  },
  "language_info": {
   "codemirror_mode": {
    "name": "ipython",
    "version": 3
   },
   "file_extension": ".py",
   "mimetype": "text/x-python",
   "name": "python",
   "nbconvert_exporter": "python",
   "pygments_lexer": "ipython3",
   "version": "3.11.4"
  }
 },
 "nbformat": 4,
 "nbformat_minor": 5
}
